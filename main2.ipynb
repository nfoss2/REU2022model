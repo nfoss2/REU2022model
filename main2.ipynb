{
 "cells": [
  {
   "cell_type": "markdown",
   "id": "16c41623",
   "metadata": {},
   "source": [
    "# Instructions\n",
    "\n",
    "You can run each code snippet in order and you end up with a trained model and a nice little graph of some important performance metrics."
   ]
  },
  {
   "cell_type": "code",
   "execution_count": 1,
   "id": "73bd5019",
   "metadata": {},
   "outputs": [],
   "source": [
    "import torch.nn as nn\n",
    "import torch\n",
    "import torch.optim as optim\n",
    "import tqdm\n",
    "from torch.utils.data import Dataset, DataLoader\n",
    "import numpy as np\n",
    "\n",
    "from data import get_data\n",
    "from models import TCN\n",
    "\n",
    "from sklearn.model_selection import train_test_split\n",
    "import argparse\n",
    "\n",
    "import matplotlib.pyplot as plt\n",
    "plt.rcParams[\"figure.figsize\"] = (15,10)\n",
    "\n",
    "import statistics as stat"
   ]
  },
  {
   "cell_type": "code",
   "execution_count": 2,
   "id": "fef644e3",
   "metadata": {},
   "outputs": [],
   "source": [
    "torch.set_printoptions(threshold=5000)\n",
    "\n",
    "class args():\n",
    "    def __init__(self):\n",
    "        self.regularization=1\n",
    "        self.lamda1=0.075\n",
    "        self.lamda2=0.00075\n",
    "        self.current_event=5\n",
    "        self.channel_size=32\n",
    "        self.kernel_size=5\n",
    "        self.num_epochs=50\n",
    "        self.batch_size=32\n",
    "        self.learning_rate=1e-3\n",
    "        self.warm_up=1\n",
    "        self.warm_up_epoch=5\n",
    "        self.multi_pattern=0\n",
    "        self.course='2'\n",
    "        self.mode='train'\n",
    "\n",
    "args = args()\n"
   ]
  },
  {
   "cell_type": "code",
   "execution_count": 3,
   "id": "ba41d3d8",
   "metadata": {},
   "outputs": [
    {
     "name": "stdout",
     "output_type": "stream",
     "text": [
      "Data Loaded Complete\n",
      "==========================================================\n"
     ]
    }
   ],
   "source": [
    "train_x, train_y, test_x, test_y = get_data()\n",
    "\n",
    "train_num = len(train_x)\n",
    "test_num = len(test_x)\n",
    "print('Data Loaded Complete')\n",
    "print('==========================================================')"
   ]
  },
  {
   "cell_type": "code",
   "execution_count": 4,
   "id": "8cc013e9",
   "metadata": {},
   "outputs": [],
   "source": [
    "class ClipDataset(Dataset):\n",
    "    def __init__(self, x, y):\n",
    "        self.x = x\n",
    "        self.y = y\n",
    "                \n",
    "    def __len__(self):\n",
    "        return len(self.x)\n",
    "    \n",
    "    def __getitem__(self, idx):\n",
    "        clip = torch.Tensor(self.x[idx])\n",
    "        if self.y[idx] == 0:\n",
    "            label = torch.Tensor([1,0])\n",
    "        else:\n",
    "            label = torch.Tensor([0,1])\n",
    "        return clip, label"
   ]
  },
  {
   "cell_type": "code",
   "execution_count": 5,
   "id": "d8bd5125",
   "metadata": {},
   "outputs": [],
   "source": [
    "train_dataset = ClipDataset(train_x, train_y)\n",
    "train_loader = DataLoader(dataset=train_dataset, batch_size=args.batch_size, shuffle=True)\n",
    "\n",
    "test_dataset = ClipDataset(test_x, test_y)\n",
    "test_loader = DataLoader(dataset=test_dataset, batch_size=args.batch_size, shuffle=True)"
   ]
  },
  {
   "cell_type": "code",
   "execution_count": 15,
   "id": "0c4342c8",
   "metadata": {},
   "outputs": [],
   "source": [
    "def train(ep, lambda1, lambda2, args):\n",
    "    training_loss = []\n",
    "    training_reg_loss = []\n",
    "    total_training_loss = []\n",
    "    global batch_size, iters, epochs\n",
    "    print('Epoch: {}'.format(ep))\n",
    "    model.train()\n",
    "    for param in model.parameters():\n",
    "        param.requires_grad = True\n",
    "    optimizer.zero_grad()\n",
    "    progress = tqdm.tqdm(total=train_num/32, ncols=75, desc='Train {}'.format(ep))\n",
    "    loop_train = tqdm.tqdm(train_loader, total=len(train_loader), leave=True)\n",
    "    for idx, (clips, labels) in enumerate(loop_train):\n",
    "        predict = model.forward(clips)\n",
    "        loss = criterion(predict.squeeze(), labels)\n",
    "        training_loss.append(float(loss.detach().numpy()))\n",
    "        regularization = 0\n",
    "        r_s, L1 = model.regularization_uni()\n",
    "        regularization = lambda1 * r_s + lambda2 * L1\n",
    "        training_reg_loss.append(float(regularization.detach().numpy()))\n",
    "        loss = loss + regularization\n",
    "        total_training_loss.append(float(loss.detach().numpy()))\n",
    "        loss.backward()\n",
    "        progress.update(1)\n",
    "        optimizer.step()\n",
    "        optimizer.zero_grad()\n",
    "    progress.close()\n",
    "    return training_loss, training_reg_loss, total_training_loss, predict\n",
    "\n",
    "\n",
    "def evaluate():\n",
    "    model.eval()\n",
    "    testing_loss = []\n",
    "    testing_reg_loss = []\n",
    "    total_testing_loss = []\n",
    "    #kappa_info = [both_gaming, both_non, pred_gaming_true_non, pred_non_true_gaming]\n",
    "    kappa_info = [0,0,0,0,0]\n",
    "    count_info = [0,0]\n",
    "    progress = tqdm.tqdm(total=test_num/32, ncols=75, desc='Test {}'.format(ep))\n",
    "    loop_test = tqdm.tqdm(test_loader, total=len(test_loader), leave=True)\n",
    "    for idx, (clips, labels) in enumerate(loop_test):\n",
    "        progress.update(1)\n",
    "        predict = model(clips)\n",
    "        loss = criterion(predict.squeeze(), labels)\n",
    "        kappa_info = list( np.array(kappa_info) + np.array(num_right_every_way(predict.squeeze(), labels)))\n",
    "        count_info = list( np.array(count_info) + np.array(num_right_each(predict.squeeze(), labels)))\n",
    "        testing_loss.append(float(loss.detach().numpy()))\n",
    "\n",
    "    progress.close()\n",
    "    kappa = get_kappa(kappa_info)\n",
    "    return testing_loss, testing_reg_loss, total_testing_loss, predict, kappa, count_info\n",
    "\n",
    "def num_right(predict, labels):\n",
    "    \"\"\"num_right takes in the array of predictions and the array of true labels \n",
    "    and returns the total number of correct predictions\"\"\"\n",
    "    count = 0\n",
    "    for indx, pred in enumerate(predict.detach().numpy()):\n",
    "        if max_label(pred) == max_label(labels.detach().numpy()[indx]):\n",
    "            count += 1\n",
    "    return count\n",
    "\n",
    "def num_right_each(predict, labels):\n",
    "    \"\"\"num_right_each takes in the array of predictions and the array of true labels \n",
    "    and returns the number of correct predictions individually for each label\"\"\"\n",
    "    count_gaming = 0\n",
    "    count_non = 0\n",
    "    for indx, pred in enumerate(predict.detach().numpy()):\n",
    "        if max_label(pred) == max_label(labels.detach().numpy()[indx]):\n",
    "            if max_label(pred) == 0:\n",
    "                count_non += 1\n",
    "            else:\n",
    "                count_gaming += 1\n",
    "    return [count_gaming, count_non]\n",
    "\n",
    "def num_right_every_way(predict, labels):\n",
    "    \"\"\"num_right_every_way takes in the array of predictions and the array of true labels and returns\n",
    "    the true positive, true negative, false positive, false negative numbers, and the number of predictions\"\"\"\n",
    "    both_gaming, both_non, pred_gaming_true_non, pred_non_true_gaming = 0,0,0,0\n",
    "    for indx, pred in enumerate(predict.detach().numpy()):\n",
    "        if max_label(pred) == max_label(labels.detach().numpy()[indx]):\n",
    "            if max_label(pred) == 0:\n",
    "                both_non += 1\n",
    "            else:\n",
    "                both_gaming += 1\n",
    "        else:\n",
    "            if max_label(pred) == 0:\n",
    "                pred_non_true_gaming += 1\n",
    "            else:\n",
    "                pred_gaming_true_non += 1\n",
    "    return [both_gaming, both_non, pred_gaming_true_non, pred_non_true_gaming, len(labels)]\n",
    "\n",
    "def max_label(label):\n",
    "    \"\"\"helper function that given a confidence value for [no,yes] will return the value associated with the max\"\"\"\n",
    "    [no, yes] = label\n",
    "    if yes > no:\n",
    "        return 1\n",
    "    else:\n",
    "        return 0\n",
    "    \n",
    "def get_kappa(kappa_info):\n",
    "    \"\"\"get_kappa calculates the kappa for one epoch given all of the kappa info\"\"\"\n",
    "    [both_gaming, both_non, pred_gaming_true_non, pred_non_true_gaming, total] = kappa_info\n",
    "    po = (both_gaming+both_non)/total\n",
    "    pgaming = ((both_gaming+pred_gaming_true_non)/total) * ((both_gaming+pred_non_true_gaming)/total)\n",
    "    pnon = ((both_non+pred_non_true_gaming)/total) * ((both_non+pred_gaming_true_non)/total)\n",
    "    pe = pgaming+pnon\n",
    "    return (po - pe)/(1 - pe)\n",
    "\n",
    "def generate_inner_plots(training_loss, training_reg_loss, total_training_loss):\n",
    "    fig, axs = plt.subplots(3,1)\n",
    "    #loss\n",
    "    num = []\n",
    "    ave_loss = []\n",
    "    for i in range(0, 20):\n",
    "        total = 0\n",
    "        for j in range(0,5):\n",
    "            total += training_loss[i+j]\n",
    "        ave_loss.append(total/10)\n",
    "        num.append(i*10)\n",
    "    axs[0].plot(num, ave_loss)\n",
    "    axs[0].set_ylim(0, .5)\n",
    "    #regularization\n",
    "    axs[1].plot(range(0,len(training_reg_loss)), training_reg_loss)\n",
    "    axs[1].set_ylim(0, .5)\n",
    "    #total\n",
    "    ave_total_loss = []\n",
    "    for i in range(0, 20):\n",
    "        total = 0\n",
    "        for j in range(0,5):\n",
    "            total += training_loss[i+j]\n",
    "        ave_total_loss.append(total/10)\n",
    "    axs[2].plot(num, ave_total_loss)\n",
    "    axs[2].set_ylim(0, .5)\n",
    "    print(\"ave loss: {}\".format(ave_loss[-1]))\n",
    "    print(\"last reg: {}\".format(training_reg_loss[-1]))\n",
    "    print(\"ave total loss: {}\".format(ave_total_loss[-1]))\n",
    "\n",
    "def generate_plots(loss_list, kappa_list, count_right_gaming_list, count_right_non_list, count_list):\n",
    "    fig, axs = plt.subplots(2, 2)\n",
    "    #ave % correct non gaming\n",
    "    ave_count_right_non_list = []\n",
    "    num = []\n",
    "    for i in range(0,10):\n",
    "        total = 0\n",
    "        for j in range(0,5):\n",
    "            total += count_right_non_list[i+j]\n",
    "        ave_count_right_non_list.append(total/5)\n",
    "        num.append(i*5)\n",
    "    percentages0 = []\n",
    "    for i in ave_count_right_non_list:\n",
    "        percentages0.append(i/2035)\n",
    "    axs[0, 0].plot(num, percentages0)  \n",
    "    axs[0, 0].set_xlabel(\"Epoch number\")\n",
    "    axs[0, 0].set_ylabel(\"% correct non gaming\") \n",
    "    axs[0, 0].set_ylim(.85, 1)\n",
    "    axs[0, 0].set_title(\"Average % correct non gaming\")\n",
    "    \n",
    "    #Loss graph\n",
    "#     axs[0, 0].plot(range(0,len(loss_list)), loss_list)\n",
    "#     axs[0, 0].set_xlabel(\"Epoch number\")\n",
    "#     axs[0, 0].set_ylabel(\"Loss\")\n",
    "#     axs[0, 0].set_ylim(0, 1)\n",
    "#     axs[0, 0].set_title(\"Loss\")\n",
    "\n",
    "    #kappa\n",
    "    percentages1 = []\n",
    "    for i in count_list:\n",
    "        percentages1.append(i/2170)\n",
    "    ave_performance = []\n",
    "    for i in range(0,10):\n",
    "        total = 0\n",
    "        for j in range(0,5):\n",
    "            total += percentages1[i+j]\n",
    "        ave_performance.append(total/5)\n",
    "    axs[1, 0].plot(num, ave_performance)  \n",
    "    axs[1, 0].set_xlabel(\"Epoch number\")\n",
    "    axs[1, 0].set_ylabel(\"Accuracy\") \n",
    "    axs[1, 0].set_ylim(.93, 1)\n",
    "    axs[1, 0].set_title(\"Average accuracy\")\n",
    "    \n",
    "    #ave % correct gaming\n",
    "    ave_count_right_gaming_list = []\n",
    "    for i in range(0,10):\n",
    "        total = 0\n",
    "        for j in range(0,5):\n",
    "            total += count_right_gaming_list[i+j]\n",
    "        ave_count_right_gaming_list.append(total/5)\n",
    "    percentages2 = []\n",
    "    for i in ave_count_right_gaming_list:\n",
    "        percentages2.append(i/135)\n",
    "    axs[0, 1].plot(num, percentages2)  \n",
    "    axs[0, 1].set_xlabel(\"Epoch number\")\n",
    "    axs[0, 1].set_ylabel(\"% correct gaming\") \n",
    "    axs[0, 1].set_ylim(0, 1)\n",
    "    axs[0, 1].set_title(\"Average % correct gaming\")\n",
    "    \n",
    "    #average kappa\n",
    "    ave_kappa = []\n",
    "    for i in range(0,10):\n",
    "        total = 0\n",
    "        for j in range(0,5):\n",
    "            total += kappa_list[i+j]\n",
    "        ave_kappa.append(total/5)\n",
    "    axs[1, 1].set_xlabel(\"Epoch number\")\n",
    "    axs[1, 1].set_ylabel(\"Kappa\")\n",
    "    axs[1, 1].set_ylim(0, 1)\n",
    "    axs[1, 1].plot(range(0,len(ave_kappa)), ave_kappa)\n",
    "    axs[1, 1].set_title(\"average kappa\")\n",
    "    \n",
    "    #printing stuff\n",
    "#     print(\"ave loss: {}\".format(sum(loss_list[-5:]) / len(loss_list[-5:])))\n",
    "    print(\"ave kappa: {}\".format(ave_kappa[-1]))\n",
    "    print(\"ave % correct gaming: {}\".format(percentages2[-1]))\n",
    "    print(\"ave % correct non gaming: {}\".format(percentages0[-1]))\n",
    "    print(\"ave accuracy: {}\".format(percentages1[-1]))\n",
    "    \n",
    "    \n",
    "#     fig.tight_layout()"
   ]
  },
  {
   "cell_type": "code",
   "execution_count": 9,
   "id": "8865911b",
   "metadata": {},
   "outputs": [
    {
     "name": "stdout",
     "output_type": "stream",
     "text": [
      "Epoch: 0\n"
     ]
    },
    {
     "name": "stderr",
     "output_type": "stream",
     "text": [
      "Train 0:   0%|                                | 0/205.0625 [00:00<?, ?it/s]\n",
      "Train 0:  15%|███▏                  | 30/205.0625 [00:00<00:00, 294.21it/s]\n",
      "Train 0:  30%|██████▌               | 61/205.0625 [00:00<00:00, 301.41it/s]\n",
      "Train 0:  45%|█████████▊            | 92/205.0625 [00:00<00:00, 303.71it/s]\n",
      "Train 0:  60%|████████████▌        | 123/205.0625 [00:00<00:00, 304.71it/s]\n",
      "Train 0:  75%|███████████████▊     | 154/205.0625 [00:00<00:00, 305.26it/s]\n",
      "Train 0:  91%|███████████████████  | 186/205.0625 [00:00<00:00, 307.37it/s]\n",
      "100%|██████████| 206/206 [00:00<00:00, 305.07it/s]\u001b[A\n",
      "Train 0: 206it [00:00, 303.52it/s]                                         \n",
      "Test 0:   0%|                                  | 0/67.8125 [00:00<?, ?it/s]\n",
      "Test 0:  65%|███████████████▌        | 44/67.8125 [00:00<00:00, 436.34it/s]\n",
      "100%|██████████| 68/68 [00:00<00:00, 438.02it/s]\u001b[A\n",
      "Test 0: 100%|████████████████████████| 68/67.8125 [00:00<00:00, 428.59it/s]\n"
     ]
    },
    {
     "name": "stdout",
     "output_type": "stream",
     "text": [
      "Epoch: 1\n"
     ]
    },
    {
     "name": "stderr",
     "output_type": "stream",
     "text": [
      "Train 1:   0%|                                | 0/205.0625 [00:00<?, ?it/s]\n",
      "Train 1:  16%|███▌                  | 33/205.0625 [00:00<00:00, 320.64it/s]\n",
      "Train 1:  32%|███████               | 66/205.0625 [00:00<00:00, 308.94it/s]\n",
      "Train 1:  47%|██████████▍           | 97/205.0625 [00:00<00:00, 304.28it/s]\n",
      "Train 1:  62%|█████████████        | 128/205.0625 [00:00<00:00, 302.24it/s]\n",
      "Train 1:  78%|████████████████▎    | 159/205.0625 [00:00<00:00, 300.36it/s]\n",
      "Train 1:  93%|███████████████████▌ | 191/205.0625 [00:00<00:00, 304.71it/s]\n",
      "100%|██████████| 206/206 [00:00<00:00, 306.21it/s]\u001b[A\n",
      "Train 1: 206it [00:00, 304.37it/s]                                         \n",
      "Test 1:   0%|                                  | 0/67.8125 [00:00<?, ?it/s]\n",
      "Test 1:  68%|████████████████▎       | 46/67.8125 [00:00<00:00, 451.75it/s]\n",
      "100%|██████████| 68/68 [00:00<00:00, 437.78it/s]\u001b[A\n",
      "Test 1: 100%|████████████████████████| 68/67.8125 [00:00<00:00, 428.82it/s]\n"
     ]
    },
    {
     "name": "stdout",
     "output_type": "stream",
     "text": [
      "Epoch: 2\n"
     ]
    },
    {
     "name": "stderr",
     "output_type": "stream",
     "text": [
      "Train 2:   0%|                                | 0/205.0625 [00:00<?, ?it/s]\n",
      "Train 2:  16%|███▍                  | 32/205.0625 [00:00<00:00, 315.97it/s]\n",
      "Train 2:  31%|██████▊               | 64/205.0625 [00:00<00:00, 313.17it/s]\n",
      "Train 2:  47%|██████████▎           | 96/205.0625 [00:00<00:00, 307.28it/s]\n",
      "Train 2:  62%|█████████████        | 127/205.0625 [00:00<00:00, 306.58it/s]\n",
      "Train 2:  77%|████████████████▏    | 158/205.0625 [00:00<00:00, 301.54it/s]\n",
      "Train 2:  92%|███████████████████▎ | 189/205.0625 [00:00<00:00, 304.33it/s]\n",
      "100%|██████████| 206/206 [00:00<00:00, 307.21it/s]\u001b[A\n",
      "Train 2: 206it [00:00, 305.39it/s]                                         \n",
      "Test 2:   0%|                                  | 0/67.8125 [00:00<?, ?it/s]\n",
      "Test 2:  68%|████████████████▎       | 46/67.8125 [00:00<00:00, 456.79it/s]\n",
      "100%|██████████| 68/68 [00:00<00:00, 445.97it/s]\u001b[A\n",
      "Test 2: 100%|████████████████████████| 68/67.8125 [00:00<00:00, 435.39it/s]\n"
     ]
    },
    {
     "name": "stdout",
     "output_type": "stream",
     "text": [
      "Epoch: 3\n"
     ]
    },
    {
     "name": "stderr",
     "output_type": "stream",
     "text": [
      "Train 3:   0%|                                | 0/205.0625 [00:00<?, ?it/s]\n",
      "Train 3:  15%|███▎                  | 31/205.0625 [00:00<00:00, 307.54it/s]\n",
      "Train 3:  30%|██████▋               | 62/205.0625 [00:00<00:00, 301.77it/s]\n",
      "Train 3:  46%|██████████            | 94/205.0625 [00:00<00:00, 306.89it/s]\n",
      "Train 3:  61%|████████████▉        | 126/205.0625 [00:00<00:00, 308.78it/s]\n",
      "Train 3:  77%|████████████████     | 157/205.0625 [00:00<00:00, 305.95it/s]\n",
      "Train 3:  92%|███████████████████▎ | 188/205.0625 [00:00<00:00, 304.50it/s]\n",
      "100%|██████████| 206/206 [00:00<00:00, 305.51it/s]\u001b[A\n",
      "Train 3: 206it [00:00, 303.91it/s]                                         \n",
      "Test 3:   0%|                                  | 0/67.8125 [00:00<?, ?it/s]\n",
      "Test 3:  66%|███████████████▉        | 45/67.8125 [00:00<00:00, 439.05it/s]\n",
      "100%|██████████| 68/68 [00:00<00:00, 425.85it/s]\u001b[A\n",
      "Test 3: 100%|████████████████████████| 68/67.8125 [00:00<00:00, 416.43it/s]\n"
     ]
    },
    {
     "name": "stdout",
     "output_type": "stream",
     "text": [
      "Epoch: 4\n"
     ]
    },
    {
     "name": "stderr",
     "output_type": "stream",
     "text": [
      "Train 4:   0%|                                | 0/205.0625 [00:00<?, ?it/s]\n",
      "Train 4:  16%|███▍                  | 32/205.0625 [00:00<00:00, 313.01it/s]\n",
      "Train 4:  31%|██████▊               | 64/205.0625 [00:00<00:00, 308.32it/s]\n",
      "Train 4:  47%|██████████▎           | 96/205.0625 [00:00<00:00, 312.28it/s]\n",
      "Train 4:  62%|█████████████        | 128/205.0625 [00:00<00:00, 308.77it/s]\n",
      "Train 4:  78%|████████████████▎    | 159/205.0625 [00:00<00:00, 306.88it/s]\n",
      "Train 4:  93%|███████████████████▍ | 190/205.0625 [00:00<00:00, 305.88it/s]\n",
      "100%|██████████| 206/206 [00:00<00:00, 308.21it/s]\u001b[A\n",
      "Train 4: 206it [00:00, 306.14it/s]                                         \n",
      "Test 4:   0%|                                  | 0/67.8125 [00:00<?, ?it/s]\n",
      "Test 4:  63%|███████████████▏        | 43/67.8125 [00:00<00:00, 422.39it/s]\n",
      "100%|██████████| 68/68 [00:00<00:00, 420.65it/s]\u001b[A\n",
      "Test 4: 100%|████████████████████████| 68/67.8125 [00:00<00:00, 411.07it/s]\n"
     ]
    },
    {
     "name": "stdout",
     "output_type": "stream",
     "text": [
      "Epoch: 5\n"
     ]
    },
    {
     "name": "stderr",
     "output_type": "stream",
     "text": [
      "Train 5:   0%|                                | 0/205.0625 [00:00<?, ?it/s]\n",
      "Train 5:  15%|███▎                  | 31/205.0625 [00:00<00:00, 305.01it/s]\n",
      "Train 5:  30%|██████▋               | 62/205.0625 [00:00<00:00, 303.76it/s]\n",
      "Train 5:  45%|█████████▉            | 93/205.0625 [00:00<00:00, 304.17it/s]\n",
      "Train 5:  60%|████████████▋        | 124/205.0625 [00:00<00:00, 304.64it/s]\n",
      "Train 5:  76%|███████████████▉     | 156/205.0625 [00:00<00:00, 308.62it/s]\n",
      "Train 5:  91%|███████████████████▏ | 187/205.0625 [00:00<00:00, 304.87it/s]\n",
      "100%|██████████| 206/206 [00:00<00:00, 304.69it/s]\u001b[A\n",
      "Train 5: 206it [00:00, 302.88it/s]                                         \n",
      "Test 5:   0%|                                  | 0/67.8125 [00:00<?, ?it/s]\n",
      "Test 5:  63%|███████████████▏        | 43/67.8125 [00:00<00:00, 427.89it/s]\n",
      "100%|██████████| 68/68 [00:00<00:00, 427.01it/s]\u001b[A\n",
      "Test 5: 100%|████████████████████████| 68/67.8125 [00:00<00:00, 417.71it/s]\n"
     ]
    },
    {
     "name": "stdout",
     "output_type": "stream",
     "text": [
      "Epoch: 6\n"
     ]
    },
    {
     "name": "stderr",
     "output_type": "stream",
     "text": [
      "Train 6:   0%|                                | 0/205.0625 [00:00<?, ?it/s]\n",
      "Train 6:  15%|███▎                  | 31/205.0625 [00:00<00:00, 305.21it/s]\n",
      "Train 6:  30%|██████▋               | 62/205.0625 [00:00<00:00, 302.09it/s]\n",
      "Train 6:  46%|██████████            | 94/205.0625 [00:00<00:00, 307.17it/s]\n",
      "Train 6:  61%|████████████▊        | 125/205.0625 [00:00<00:00, 307.70it/s]\n",
      "Train 6:  76%|███████████████▉     | 156/205.0625 [00:00<00:00, 308.22it/s]\n",
      "Train 6:  91%|███████████████████▏ | 187/205.0625 [00:00<00:00, 307.02it/s]\n",
      "100%|██████████| 206/206 [00:00<00:00, 307.90it/s]\u001b[A\n",
      "Train 6: 206it [00:00, 306.04it/s]                                         \n",
      "Test 6:   0%|                                  | 0/67.8125 [00:00<?, ?it/s]\n",
      "Test 6:  66%|███████████████▉        | 45/67.8125 [00:00<00:00, 442.04it/s]\n",
      "100%|██████████| 68/68 [00:00<00:00, 440.22it/s]\u001b[A\n",
      "Test 6: 100%|████████████████████████| 68/67.8125 [00:00<00:00, 429.71it/s]\n"
     ]
    },
    {
     "name": "stdout",
     "output_type": "stream",
     "text": [
      "Epoch: 7\n"
     ]
    },
    {
     "name": "stderr",
     "output_type": "stream",
     "text": [
      "Train 7:   0%|                                | 0/205.0625 [00:00<?, ?it/s]\n",
      "Train 7:  15%|███▎                  | 31/205.0625 [00:00<00:00, 307.86it/s]\n",
      "Train 7:  30%|██████▋               | 62/205.0625 [00:00<00:00, 302.62it/s]\n",
      "Train 7:  46%|██████████            | 94/205.0625 [00:00<00:00, 306.70it/s]\n",
      "Train 7:  61%|████████████▊        | 125/205.0625 [00:00<00:00, 306.31it/s]\n",
      "Train 7:  76%|███████████████▉     | 156/205.0625 [00:00<00:00, 305.28it/s]\n",
      "Train 7:  92%|███████████████████▎ | 188/205.0625 [00:00<00:00, 308.11it/s]\n",
      "100%|██████████| 206/206 [00:00<00:00, 307.80it/s]\u001b[A\n",
      "Train 7: 206it [00:00, 305.99it/s]                                         \n",
      "Test 7:   0%|                                  | 0/67.8125 [00:00<?, ?it/s]\n",
      "Test 7:  65%|███████████████▌        | 44/67.8125 [00:00<00:00, 434.11it/s]\n",
      "100%|██████████| 68/68 [00:00<00:00, 430.32it/s]\u001b[A\n",
      "Test 7: 100%|████████████████████████| 68/67.8125 [00:00<00:00, 421.01it/s]\n"
     ]
    },
    {
     "name": "stdout",
     "output_type": "stream",
     "text": [
      "Epoch: 8\n"
     ]
    },
    {
     "name": "stderr",
     "output_type": "stream",
     "text": [
      "Train 8:   0%|                                | 0/205.0625 [00:00<?, ?it/s]\n",
      "Train 8:  15%|███▎                  | 31/205.0625 [00:00<00:00, 305.25it/s]\n",
      "Train 8:  31%|██████▊               | 63/205.0625 [00:00<00:00, 310.13it/s]\n",
      "Train 8:  47%|██████████▎           | 96/205.0625 [00:00<00:00, 317.97it/s]\n",
      "Train 8:  63%|█████████████▏       | 129/205.0625 [00:00<00:00, 318.60it/s]\n",
      "Train 8:  79%|████████████████▌    | 162/205.0625 [00:00<00:00, 319.29it/s]\n",
      "Train 8:  95%|███████████████████▊ | 194/205.0625 [00:00<00:00, 318.68it/s]\n",
      "100%|██████████| 206/206 [00:00<00:00, 317.18it/s]\u001b[A\n",
      "Train 8: 206it [00:00, 315.37it/s]                                         \n",
      "Test 8:   0%|                                  | 0/67.8125 [00:00<?, ?it/s]\n",
      "Test 8:  68%|████████████████▎       | 46/67.8125 [00:00<00:00, 454.12it/s]\n",
      "100%|██████████| 68/68 [00:00<00:00, 446.16it/s]\u001b[A\n",
      "Test 8: 100%|████████████████████████| 68/67.8125 [00:00<00:00, 437.06it/s]\n"
     ]
    },
    {
     "name": "stdout",
     "output_type": "stream",
     "text": [
      "Epoch: 9\n"
     ]
    },
    {
     "name": "stderr",
     "output_type": "stream",
     "text": [
      "Train 9:   0%|                                | 0/205.0625 [00:00<?, ?it/s]\n",
      "Train 9:  16%|███▌                  | 33/205.0625 [00:00<00:00, 326.20it/s]\n",
      "Train 9:  32%|███████               | 66/205.0625 [00:00<00:00, 317.88it/s]\n",
      "Train 9:  48%|██████████▌           | 98/205.0625 [00:00<00:00, 318.67it/s]\n",
      "Train 9:  64%|█████████████▍       | 131/205.0625 [00:00<00:00, 320.59it/s]\n",
      "Train 9:  80%|████████████████▊    | 164/205.0625 [00:00<00:00, 316.30it/s]\n",
      "Train 9:  96%|████████████████████ | 196/205.0625 [00:00<00:00, 317.18it/s]\n",
      "100%|██████████| 206/206 [00:00<00:00, 318.29it/s]\u001b[A\n",
      "Train 9: 206it [00:00, 316.47it/s]                                         \n",
      "Test 9:   0%|                                  | 0/67.8125 [00:00<?, ?it/s]\n",
      "Test 9:  65%|███████████████▌        | 44/67.8125 [00:00<00:00, 438.80it/s]\n",
      "100%|██████████| 68/68 [00:00<00:00, 431.80it/s]\u001b[A\n",
      "Test 9: 100%|████████████████████████| 68/67.8125 [00:00<00:00, 422.65it/s]\n"
     ]
    },
    {
     "name": "stdout",
     "output_type": "stream",
     "text": [
      "Epoch: 10\n"
     ]
    },
    {
     "name": "stderr",
     "output_type": "stream",
     "text": [
      "Train 10:   0%|                               | 0/205.0625 [00:00<?, ?it/s]\n",
      "Train 10:  16%|███▍                 | 33/205.0625 [00:00<00:00, 323.96it/s]\n",
      "Train 10:  32%|██████▊              | 66/205.0625 [00:00<00:00, 321.44it/s]\n",
      "Train 10:  48%|██████████▏          | 99/205.0625 [00:00<00:00, 324.21it/s]\n",
      "Train 10:  64%|████████████▊       | 132/205.0625 [00:00<00:00, 321.79it/s]\n",
      "Train 10:  80%|████████████████    | 165/205.0625 [00:00<00:00, 318.29it/s]\n",
      "Train 10:  97%|███████████████████▎| 198/205.0625 [00:00<00:00, 319.43it/s]\n",
      "100%|██████████| 206/206 [00:00<00:00, 320.12it/s]\u001b[A\n",
      "Train 10: 206it [00:00, 318.45it/s]                                        \n",
      "Test 10:   0%|                                 | 0/67.8125 [00:00<?, ?it/s]\n",
      "Test 10:  65%|██████████████▉        | 44/67.8125 [00:00<00:00, 435.96it/s]\n",
      "100%|██████████| 68/68 [00:00<00:00, 446.33it/s]\u001b[A\n",
      "Test 10: 100%|███████████████████████| 68/67.8125 [00:00<00:00, 437.14it/s]\n"
     ]
    },
    {
     "name": "stdout",
     "output_type": "stream",
     "text": [
      "Epoch: 11\n"
     ]
    },
    {
     "name": "stderr",
     "output_type": "stream",
     "text": [
      "Train 11:   0%|                               | 0/205.0625 [00:00<?, ?it/s]\n",
      "Train 11:  15%|███▏                 | 31/205.0625 [00:00<00:00, 308.17it/s]\n",
      "Train 11:  30%|██████▎              | 62/205.0625 [00:00<00:00, 308.97it/s]\n",
      "Train 11:  45%|█████████▌           | 93/205.0625 [00:00<00:00, 309.41it/s]\n",
      "Train 11:  61%|████████████▏       | 125/205.0625 [00:00<00:00, 312.81it/s]\n",
      "Train 11:  77%|███████████████▎    | 157/205.0625 [00:00<00:00, 311.65it/s]\n",
      "Train 11:  93%|██████████████████▌ | 190/205.0625 [00:00<00:00, 315.62it/s]\n",
      "100%|██████████| 206/206 [00:00<00:00, 314.96it/s]\u001b[A\n",
      "Train 11: 206it [00:00, 313.13it/s]                                        \n",
      "Test 11:   0%|                                 | 0/67.8125 [00:00<?, ?it/s]\n",
      "Test 11:  66%|███████████████▎       | 45/67.8125 [00:00<00:00, 446.64it/s]\n",
      "100%|██████████| 68/68 [00:00<00:00, 439.58it/s]\u001b[A\n",
      "Test 11: 100%|███████████████████████| 68/67.8125 [00:00<00:00, 430.76it/s]\n"
     ]
    },
    {
     "name": "stdout",
     "output_type": "stream",
     "text": [
      "Epoch: 12\n"
     ]
    },
    {
     "name": "stderr",
     "output_type": "stream",
     "text": [
      "Train 12:   0%|                               | 0/205.0625 [00:00<?, ?it/s]\n",
      "Train 12:  16%|███▍                 | 33/205.0625 [00:00<00:00, 320.80it/s]\n",
      "Train 12:  32%|██████▊              | 66/205.0625 [00:00<00:00, 325.85it/s]\n",
      "Train 12:  48%|██████████▏          | 99/205.0625 [00:00<00:00, 322.18it/s]\n",
      "Train 12:  64%|████████████▊       | 132/205.0625 [00:00<00:00, 317.49it/s]\n",
      "Train 12:  80%|███████████████▉    | 164/205.0625 [00:00<00:00, 317.37it/s]\n",
      "Train 12:  96%|███████████████████ | 196/205.0625 [00:00<00:00, 317.37it/s]\n",
      "100%|██████████| 206/206 [00:00<00:00, 318.80it/s]\u001b[A\n",
      "Train 12: 206it [00:00, 316.99it/s]                                        \n",
      "Test 12:   0%|                                 | 0/67.8125 [00:00<?, ?it/s]\n",
      "Test 12:  66%|███████████████▎       | 45/67.8125 [00:00<00:00, 444.33it/s]\n",
      "100%|██████████| 68/68 [00:00<00:00, 446.27it/s]\u001b[A\n",
      "Test 12: 100%|███████████████████████| 68/67.8125 [00:00<00:00, 437.05it/s]\n"
     ]
    },
    {
     "name": "stdout",
     "output_type": "stream",
     "text": [
      "Epoch: 13\n"
     ]
    },
    {
     "name": "stderr",
     "output_type": "stream",
     "text": [
      "Train 13:   0%|                               | 0/205.0625 [00:00<?, ?it/s]\n",
      "Train 13:  15%|███▏                 | 31/205.0625 [00:00<00:00, 306.90it/s]\n",
      "Train 13:  31%|██████▌              | 64/205.0625 [00:00<00:00, 318.55it/s]\n",
      "Train 13:  47%|█████████▊           | 96/205.0625 [00:00<00:00, 317.07it/s]\n",
      "Train 13:  62%|████████████▍       | 128/205.0625 [00:00<00:00, 316.12it/s]\n",
      "Train 13:  78%|███████████████▌    | 160/205.0625 [00:00<00:00, 314.63it/s]\n",
      "Train 13:  94%|██████████████████▋ | 192/205.0625 [00:00<00:00, 314.08it/s]\n",
      "100%|██████████| 206/206 [00:00<00:00, 315.19it/s]\u001b[A\n",
      "Train 13: 206it [00:00, 313.29it/s]                                        \n",
      "Test 13:   0%|                                 | 0/67.8125 [00:00<?, ?it/s]\n",
      "Test 13:  68%|███████████████▌       | 46/67.8125 [00:00<00:00, 458.19it/s]\n",
      "100%|██████████| 68/68 [00:00<00:00, 449.05it/s]\u001b[A\n",
      "Test 13: 100%|███████████████████████| 68/67.8125 [00:00<00:00, 439.75it/s]\n"
     ]
    },
    {
     "name": "stdout",
     "output_type": "stream",
     "text": [
      "Epoch: 14\n"
     ]
    },
    {
     "name": "stderr",
     "output_type": "stream",
     "text": [
      "Train 14:   0%|                               | 0/205.0625 [00:00<?, ?it/s]\n",
      "Train 14:  15%|███▏                 | 31/205.0625 [00:00<00:00, 309.81it/s]\n",
      "Train 14:  31%|██████▍              | 63/205.0625 [00:00<00:00, 315.43it/s]\n",
      "Train 14:  46%|█████████▋           | 95/205.0625 [00:00<00:00, 314.89it/s]\n",
      "Train 14:  62%|████████████▍       | 127/205.0625 [00:00<00:00, 312.14it/s]\n",
      "Train 14:  78%|███████████████▌    | 159/205.0625 [00:00<00:00, 312.51it/s]\n",
      "Train 14:  93%|██████████████████▋ | 191/205.0625 [00:00<00:00, 313.97it/s]\n",
      "100%|██████████| 206/206 [00:00<00:00, 314.62it/s]\u001b[A\n",
      "Train 14: 206it [00:00, 312.67it/s]                                        \n",
      "Test 14:   0%|                                 | 0/67.8125 [00:00<?, ?it/s]\n",
      "Test 14:  66%|███████████████▎       | 45/67.8125 [00:00<00:00, 444.67it/s]\n",
      "100%|██████████| 68/68 [00:00<00:00, 433.27it/s]\u001b[A\n",
      "Test 14: 100%|███████████████████████| 68/67.8125 [00:00<00:00, 424.19it/s]\n"
     ]
    },
    {
     "name": "stdout",
     "output_type": "stream",
     "text": [
      "Epoch: 15\n"
     ]
    },
    {
     "name": "stderr",
     "output_type": "stream",
     "text": [
      "Train 15:   0%|                               | 0/205.0625 [00:00<?, ?it/s]\n",
      "Train 15:  16%|███▎                 | 32/205.0625 [00:00<00:00, 317.27it/s]\n",
      "Train 15:  31%|██████▌              | 64/205.0625 [00:00<00:00, 308.48it/s]\n",
      "Train 15:  46%|█████████▋           | 95/205.0625 [00:00<00:00, 307.77it/s]\n",
      "Train 15:  61%|████████████▎       | 126/205.0625 [00:00<00:00, 304.19it/s]\n",
      "Train 15:  77%|███████████████▍    | 158/205.0625 [00:00<00:00, 307.41it/s]\n",
      "Train 15:  92%|██████████████████▍ | 189/205.0625 [00:00<00:00, 303.64it/s]\n",
      "100%|██████████| 206/206 [00:00<00:00, 306.53it/s]\u001b[A\n",
      "Train 15: 206it [00:00, 304.74it/s]                                        \n",
      "Test 15:   0%|                                 | 0/67.8125 [00:00<?, ?it/s]\n",
      "Test 15:  59%|█████████████▌         | 40/67.8125 [00:00<00:00, 398.62it/s]\n",
      "100%|██████████| 68/68 [00:00<00:00, 418.21it/s]\u001b[A\n",
      "Test 15: 100%|███████████████████████| 68/67.8125 [00:00<00:00, 409.74it/s]\n"
     ]
    },
    {
     "name": "stdout",
     "output_type": "stream",
     "text": [
      "Epoch: 16\n"
     ]
    },
    {
     "name": "stderr",
     "output_type": "stream",
     "text": [
      "Train 16:   0%|                               | 0/205.0625 [00:00<?, ?it/s]\n",
      "Train 16:  15%|███▏                 | 31/205.0625 [00:00<00:00, 307.40it/s]\n",
      "Train 16:  30%|██████▎              | 62/205.0625 [00:00<00:00, 301.55it/s]\n",
      "Train 16:  45%|█████████▌           | 93/205.0625 [00:00<00:00, 303.06it/s]\n",
      "Train 16:  61%|████████████▏       | 125/205.0625 [00:00<00:00, 306.75it/s]\n",
      "Train 16:  76%|███████████████▏    | 156/205.0625 [00:00<00:00, 305.81it/s]\n",
      "Train 16:  92%|██████████████████▎ | 188/205.0625 [00:00<00:00, 308.55it/s]\n",
      "100%|██████████| 206/206 [00:00<00:00, 308.19it/s]\u001b[A\n",
      "Train 16: 206it [00:00, 306.40it/s]                                        \n",
      "Test 16:   0%|                                 | 0/67.8125 [00:00<?, ?it/s]\n",
      "Test 16:  65%|██████████████▉        | 44/67.8125 [00:00<00:00, 438.30it/s]\n",
      "100%|██████████| 68/68 [00:00<00:00, 423.80it/s]\u001b[A\n",
      "Test 16: 100%|███████████████████████| 68/67.8125 [00:00<00:00, 415.18it/s]\n"
     ]
    },
    {
     "name": "stdout",
     "output_type": "stream",
     "text": [
      "Epoch: 17\n"
     ]
    },
    {
     "name": "stderr",
     "output_type": "stream",
     "text": [
      "Train 17:   0%|                               | 0/205.0625 [00:00<?, ?it/s]\n",
      "Train 17:  15%|███▏                 | 31/205.0625 [00:00<00:00, 308.77it/s]\n",
      "Train 17:  30%|██████▎              | 62/205.0625 [00:00<00:00, 308.74it/s]\n",
      "Train 17:  45%|█████████▌           | 93/205.0625 [00:00<00:00, 308.60it/s]\n",
      "Train 17:  60%|████████████        | 124/205.0625 [00:00<00:00, 306.66it/s]\n",
      "Train 17:  76%|███████████████     | 155/205.0625 [00:00<00:00, 305.42it/s]\n",
      "Train 17:  91%|██████████████████▏ | 186/205.0625 [00:00<00:00, 303.77it/s]\n",
      "100%|██████████| 206/206 [00:00<00:00, 307.66it/s]\u001b[A\n",
      "Train 17: 206it [00:00, 305.80it/s]                                        \n",
      "Test 17:   0%|                                 | 0/67.8125 [00:00<?, ?it/s]\n",
      "Test 17:  69%|███████████████▉       | 47/67.8125 [00:00<00:00, 467.80it/s]\n",
      "100%|██████████| 68/68 [00:00<00:00, 452.29it/s]\u001b[A\n",
      "Test 17: 100%|███████████████████████| 68/67.8125 [00:00<00:00, 442.37it/s]\n"
     ]
    },
    {
     "name": "stdout",
     "output_type": "stream",
     "text": [
      "Epoch: 18\n"
     ]
    },
    {
     "name": "stderr",
     "output_type": "stream",
     "text": [
      "Train 18:   0%|                               | 0/205.0625 [00:00<?, ?it/s]\n",
      "Train 18:  15%|███▏                 | 31/205.0625 [00:00<00:00, 307.67it/s]\n",
      "Train 18:  30%|██████▎              | 62/205.0625 [00:00<00:00, 304.33it/s]\n",
      "Train 18:  45%|█████████▌           | 93/205.0625 [00:00<00:00, 304.93it/s]\n",
      "Train 18:  60%|████████████        | 124/205.0625 [00:00<00:00, 305.41it/s]\n",
      "Train 18:  76%|███████████████     | 155/205.0625 [00:00<00:00, 302.66it/s]\n",
      "Train 18:  91%|██████████████████▏ | 186/205.0625 [00:00<00:00, 303.73it/s]\n",
      "100%|██████████| 206/206 [00:00<00:00, 305.24it/s]\u001b[A\n",
      "Train 18: 206it [00:00, 303.45it/s]                                        \n",
      "Test 18:   0%|                                 | 0/67.8125 [00:00<?, ?it/s]\n",
      "Test 18:  66%|███████████████▎       | 45/67.8125 [00:00<00:00, 445.71it/s]\n",
      "100%|██████████| 68/68 [00:00<00:00, 439.24it/s]\u001b[A\n",
      "Test 18: 100%|███████████████████████| 68/67.8125 [00:00<00:00, 430.16it/s]\n"
     ]
    },
    {
     "name": "stdout",
     "output_type": "stream",
     "text": [
      "Epoch: 19\n"
     ]
    },
    {
     "name": "stderr",
     "output_type": "stream",
     "text": [
      "Train 19:   0%|                               | 0/205.0625 [00:00<?, ?it/s]\n",
      "Train 19:  16%|███▎                 | 32/205.0625 [00:00<00:00, 313.78it/s]\n",
      "Train 19:  31%|██████▌              | 64/205.0625 [00:00<00:00, 310.92it/s]\n",
      "Train 19:  47%|█████████▊           | 96/205.0625 [00:00<00:00, 310.04it/s]\n",
      "Train 19:  62%|████████████▍       | 128/205.0625 [00:00<00:00, 308.64it/s]\n",
      "Train 19:  78%|███████████████▌    | 159/205.0625 [00:00<00:00, 306.89it/s]\n",
      "Train 19:  93%|██████████████████▌ | 190/205.0625 [00:00<00:00, 304.79it/s]\n",
      "100%|██████████| 206/206 [00:00<00:00, 307.58it/s]\u001b[A\n",
      "Train 19: 206it [00:00, 305.86it/s]                                        \n",
      "Test 19:   0%|                                 | 0/67.8125 [00:00<?, ?it/s]\n",
      "Test 19:  66%|███████████████▎       | 45/67.8125 [00:00<00:00, 444.92it/s]\n",
      "100%|██████████| 68/68 [00:00<00:00, 430.57it/s]\u001b[A\n",
      "Test 19: 100%|███████████████████████| 68/67.8125 [00:00<00:00, 421.66it/s]\n"
     ]
    },
    {
     "name": "stdout",
     "output_type": "stream",
     "text": [
      "Epoch: 20\n"
     ]
    },
    {
     "name": "stderr",
     "output_type": "stream",
     "text": [
      "Train 20:   0%|                               | 0/205.0625 [00:00<?, ?it/s]\n",
      "Train 20:  15%|███▏                 | 31/205.0625 [00:00<00:00, 304.51it/s]\n",
      "Train 20:  30%|██████▎              | 62/205.0625 [00:00<00:00, 307.17it/s]\n",
      "Train 20:  45%|█████████▌           | 93/205.0625 [00:00<00:00, 307.76it/s]\n",
      "Train 20:  60%|████████████        | 124/205.0625 [00:00<00:00, 305.98it/s]\n",
      "Train 20:  76%|███████████████▏    | 156/205.0625 [00:00<00:00, 307.88it/s]\n",
      "Train 20:  91%|██████████████████▏ | 187/205.0625 [00:00<00:00, 304.65it/s]\n",
      "100%|██████████| 206/206 [00:00<00:00, 305.50it/s]\u001b[A\n",
      "Train 20: 206it [00:00, 303.68it/s]                                        \n",
      "Test 20:   0%|                                 | 0/67.8125 [00:00<?, ?it/s]\n",
      "Test 20:  66%|███████████████▎       | 45/67.8125 [00:00<00:00, 446.04it/s]\n",
      "100%|██████████| 68/68 [00:00<00:00, 437.91it/s]\u001b[A\n",
      "Test 20: 100%|███████████████████████| 68/67.8125 [00:00<00:00, 428.23it/s]\n"
     ]
    },
    {
     "name": "stdout",
     "output_type": "stream",
     "text": [
      "Epoch: 21\n"
     ]
    },
    {
     "name": "stderr",
     "output_type": "stream",
     "text": [
      "Train 21:   0%|                               | 0/205.0625 [00:00<?, ?it/s]\n",
      "Train 21:  15%|███▏                 | 31/205.0625 [00:00<00:00, 304.54it/s]\n",
      "Train 21:  30%|██████▎              | 62/205.0625 [00:00<00:00, 306.00it/s]\n",
      "Train 21:  45%|█████████▌           | 93/205.0625 [00:00<00:00, 306.68it/s]\n",
      "Train 21:  60%|████████████        | 124/205.0625 [00:00<00:00, 303.21it/s]\n",
      "Train 21:  76%|███████████████▏    | 156/205.0625 [00:00<00:00, 305.80it/s]\n",
      "Train 21:  91%|██████████████████▏ | 187/205.0625 [00:00<00:00, 306.75it/s]\n",
      "100%|██████████| 206/206 [00:00<00:00, 306.05it/s]\u001b[A\n",
      "Train 21: 206it [00:00, 304.20it/s]                                        \n",
      "Test 21:   0%|                                 | 0/67.8125 [00:00<?, ?it/s]\n",
      "Test 21:  63%|██████████████▌        | 43/67.8125 [00:00<00:00, 426.06it/s]\n",
      "100%|██████████| 68/68 [00:00<00:00, 418.66it/s]\u001b[A\n",
      "Test 21: 100%|███████████████████████| 68/67.8125 [00:00<00:00, 408.42it/s]\n"
     ]
    },
    {
     "name": "stdout",
     "output_type": "stream",
     "text": [
      "Epoch: 22\n"
     ]
    },
    {
     "name": "stderr",
     "output_type": "stream",
     "text": [
      "Train 22:   0%|                               | 0/205.0625 [00:00<?, ?it/s]\n",
      "Train 22:  15%|███                  | 30/205.0625 [00:00<00:00, 299.68it/s]\n",
      "Train 22:  30%|██████▎              | 62/205.0625 [00:00<00:00, 309.80it/s]\n",
      "Train 22:  46%|█████████▋           | 94/205.0625 [00:00<00:00, 310.86it/s]\n",
      "Train 22:  61%|████████████▎       | 126/205.0625 [00:00<00:00, 306.15it/s]\n",
      "Train 22:  77%|███████████████▎    | 157/205.0625 [00:00<00:00, 306.81it/s]\n",
      "Train 22:  92%|██████████████████▎ | 188/205.0625 [00:00<00:00, 306.95it/s]\n",
      "100%|██████████| 206/206 [00:00<00:00, 307.18it/s]\u001b[A\n",
      "Train 22: 206it [00:00, 305.46it/s]                                        \n",
      "Test 22:   0%|                                 | 0/67.8125 [00:00<?, ?it/s]\n",
      "Test 22:  68%|███████████████▌       | 46/67.8125 [00:00<00:00, 455.32it/s]\n",
      "100%|██████████| 68/68 [00:00<00:00, 441.38it/s]\u001b[A\n",
      "Test 22: 100%|███████████████████████| 68/67.8125 [00:00<00:00, 431.24it/s]\n"
     ]
    },
    {
     "name": "stdout",
     "output_type": "stream",
     "text": [
      "Epoch: 23\n"
     ]
    },
    {
     "name": "stderr",
     "output_type": "stream",
     "text": [
      "Train 23:   0%|                               | 0/205.0625 [00:00<?, ?it/s]\n",
      "Train 23:  15%|███▏                 | 31/205.0625 [00:00<00:00, 302.02it/s]\n",
      "Train 23:  30%|██████▎              | 62/205.0625 [00:00<00:00, 306.28it/s]\n",
      "Train 23:  45%|█████████▌           | 93/205.0625 [00:00<00:00, 305.67it/s]\n",
      "Train 23:  60%|████████████        | 124/205.0625 [00:00<00:00, 304.17it/s]\n",
      "Train 23:  76%|███████████████     | 155/205.0625 [00:00<00:00, 305.95it/s]\n",
      "Train 23:  91%|██████████████████▏ | 186/205.0625 [00:00<00:00, 305.99it/s]\n",
      "100%|██████████| 206/206 [00:00<00:00, 306.10it/s]\u001b[A\n",
      "Train 23: 206it [00:00, 304.28it/s]                                        \n",
      "Test 23:   0%|                                 | 0/67.8125 [00:00<?, ?it/s]\n",
      "Test 23:  66%|███████████████▎       | 45/67.8125 [00:00<00:00, 447.67it/s]\n",
      "100%|██████████| 68/68 [00:00<00:00, 439.18it/s]\u001b[A\n",
      "Test 23: 100%|███████████████████████| 68/67.8125 [00:00<00:00, 429.89it/s]\n"
     ]
    },
    {
     "name": "stdout",
     "output_type": "stream",
     "text": [
      "Epoch: 24\n"
     ]
    },
    {
     "name": "stderr",
     "output_type": "stream",
     "text": [
      "Train 24:   0%|                               | 0/205.0625 [00:00<?, ?it/s]\n",
      "Train 24:  15%|███                  | 30/205.0625 [00:00<00:00, 296.12it/s]\n",
      "Train 24:  30%|██████▏              | 61/205.0625 [00:00<00:00, 301.97it/s]\n",
      "Train 24:  45%|█████████▍           | 92/205.0625 [00:00<00:00, 301.54it/s]\n",
      "Train 24:  60%|███████████▉        | 123/205.0625 [00:00<00:00, 302.34it/s]\n",
      "Train 24:  76%|███████████████     | 155/205.0625 [00:00<00:00, 305.99it/s]\n",
      "Train 24:  91%|██████████████████▏ | 186/205.0625 [00:00<00:00, 305.22it/s]\n",
      "100%|██████████| 206/206 [00:00<00:00, 304.02it/s]\u001b[A\n",
      "Train 24: 206it [00:00, 302.21it/s]                                        \n",
      "Test 24:   0%|                                 | 0/67.8125 [00:00<?, ?it/s]\n",
      "Test 24:  65%|██████████████▉        | 44/67.8125 [00:00<00:00, 439.36it/s]\n",
      "100%|██████████| 68/68 [00:00<00:00, 429.33it/s]\u001b[A\n",
      "Test 24: 100%|███████████████████████| 68/67.8125 [00:00<00:00, 419.98it/s]\n"
     ]
    },
    {
     "name": "stdout",
     "output_type": "stream",
     "text": [
      "Epoch: 25\n"
     ]
    },
    {
     "name": "stderr",
     "output_type": "stream",
     "text": [
      "Train 25:   0%|                               | 0/205.0625 [00:00<?, ?it/s]\n",
      "Train 25:  15%|███▏                 | 31/205.0625 [00:00<00:00, 305.43it/s]\n",
      "Train 25:  30%|██████▎              | 62/205.0625 [00:00<00:00, 303.37it/s]\n",
      "Train 25:  45%|█████████▌           | 93/205.0625 [00:00<00:00, 303.49it/s]\n",
      "Train 25:  61%|████████████▏       | 125/205.0625 [00:00<00:00, 306.30it/s]\n",
      "Train 25:  77%|███████████████▎    | 157/205.0625 [00:00<00:00, 308.18it/s]\n",
      "Train 25:  92%|██████████████████▍ | 189/205.0625 [00:00<00:00, 309.11it/s]\n",
      "100%|██████████| 206/206 [00:00<00:00, 308.02it/s]\u001b[A\n",
      "Train 25: 206it [00:00, 306.16it/s]                                        \n",
      "Test 25:   0%|                                 | 0/67.8125 [00:00<?, ?it/s]\n",
      "Test 25:  62%|██████████████▏        | 42/67.8125 [00:00<00:00, 419.81it/s]\n",
      "100%|██████████| 68/68 [00:00<00:00, 415.54it/s]\u001b[A\n",
      "Test 25: 100%|███████████████████████| 68/67.8125 [00:00<00:00, 407.15it/s]\n"
     ]
    },
    {
     "name": "stdout",
     "output_type": "stream",
     "text": [
      "Epoch: 26\n"
     ]
    },
    {
     "name": "stderr",
     "output_type": "stream",
     "text": [
      "Train 26:   0%|                               | 0/205.0625 [00:00<?, ?it/s]\n",
      "Train 26:  16%|███▎                 | 32/205.0625 [00:00<00:00, 311.53it/s]\n",
      "Train 26:  31%|██████▌              | 64/205.0625 [00:00<00:00, 310.44it/s]\n",
      "Train 26:  47%|█████████▊           | 96/205.0625 [00:00<00:00, 307.51it/s]\n",
      "Train 26:  62%|████████████▍       | 127/205.0625 [00:00<00:00, 304.91it/s]\n",
      "Train 26:  78%|███████████████▌    | 159/205.0625 [00:00<00:00, 308.78it/s]\n",
      "Train 26:  93%|██████████████████▌ | 190/205.0625 [00:00<00:00, 305.95it/s]\n",
      "100%|██████████| 206/206 [00:00<00:00, 306.40it/s]\u001b[A\n",
      "Train 26: 206it [00:00, 304.63it/s]                                        \n",
      "Test 26:   0%|                                 | 0/67.8125 [00:00<?, ?it/s]\n",
      "Test 26:  63%|██████████████▌        | 43/67.8125 [00:00<00:00, 425.95it/s]\n",
      "100%|██████████| 68/68 [00:00<00:00, 419.00it/s]\u001b[A\n",
      "Test 26: 100%|███████████████████████| 68/67.8125 [00:00<00:00, 410.53it/s]\n"
     ]
    },
    {
     "name": "stdout",
     "output_type": "stream",
     "text": [
      "Epoch: 27\n"
     ]
    },
    {
     "name": "stderr",
     "output_type": "stream",
     "text": [
      "Train 27:   0%|                               | 0/205.0625 [00:00<?, ?it/s]\n",
      "Train 27:  15%|███                  | 30/205.0625 [00:00<00:00, 297.31it/s]\n",
      "Train 27:  30%|██████▏              | 61/205.0625 [00:00<00:00, 304.49it/s]\n",
      "Train 27:  45%|█████████▍           | 92/205.0625 [00:00<00:00, 304.57it/s]\n",
      "Train 27:  60%|███████████▉        | 123/205.0625 [00:00<00:00, 304.25it/s]\n",
      "Train 27:  76%|███████████████     | 155/205.0625 [00:00<00:00, 306.57it/s]\n",
      "Train 27:  91%|██████████████████▏ | 186/205.0625 [00:00<00:00, 306.29it/s]\n",
      "100%|██████████| 206/206 [00:00<00:00, 305.31it/s]\u001b[A\n",
      "Train 27: 206it [00:00, 303.48it/s]                                        \n",
      "Test 27:   0%|                                 | 0/67.8125 [00:00<?, ?it/s]\n",
      "Test 27:  68%|███████████████▌       | 46/67.8125 [00:00<00:00, 456.81it/s]\n",
      "100%|██████████| 68/68 [00:00<00:00, 441.04it/s]\u001b[A\n",
      "Test 27: 100%|███████████████████████| 68/67.8125 [00:00<00:00, 431.38it/s]\n"
     ]
    },
    {
     "name": "stdout",
     "output_type": "stream",
     "text": [
      "Epoch: 28\n"
     ]
    },
    {
     "name": "stderr",
     "output_type": "stream",
     "text": [
      "Train 28:   0%|                               | 0/205.0625 [00:00<?, ?it/s]\n",
      "Train 28:  15%|███                  | 30/205.0625 [00:00<00:00, 297.05it/s]\n",
      "Train 28:  31%|██████▍              | 63/205.0625 [00:00<00:00, 311.10it/s]\n",
      "Train 28:  46%|█████████▋           | 95/205.0625 [00:00<00:00, 311.57it/s]\n",
      "Train 28:  62%|████████████▍       | 127/205.0625 [00:00<00:00, 307.21it/s]\n",
      "Train 28:  78%|███████████████▌    | 159/205.0625 [00:00<00:00, 309.64it/s]\n",
      "Train 28:  93%|██████████████████▌ | 190/205.0625 [00:00<00:00, 307.85it/s]\n",
      "100%|██████████| 206/206 [00:00<00:00, 307.99it/s]\u001b[A\n",
      "Train 28: 206it [00:00, 306.17it/s]                                        \n",
      "Test 28:   0%|                                 | 0/67.8125 [00:00<?, ?it/s]\n",
      "Test 28:  63%|██████████████▌        | 43/67.8125 [00:00<00:00, 422.77it/s]\n",
      "100%|██████████| 68/68 [00:00<00:00, 429.36it/s]\u001b[A\n",
      "Test 28: 100%|███████████████████████| 68/67.8125 [00:00<00:00, 420.50it/s]\n"
     ]
    },
    {
     "name": "stdout",
     "output_type": "stream",
     "text": [
      "Epoch: 29\n"
     ]
    },
    {
     "name": "stderr",
     "output_type": "stream",
     "text": [
      "Train 29:   0%|                               | 0/205.0625 [00:00<?, ?it/s]\n",
      "Train 29:  16%|███▎                 | 32/205.0625 [00:00<00:00, 317.30it/s]\n",
      "Train 29:  31%|██████▌              | 64/205.0625 [00:00<00:00, 311.10it/s]\n",
      "Train 29:  47%|█████████▊           | 96/205.0625 [00:00<00:00, 307.47it/s]\n",
      "Train 29:  62%|████████████▍       | 127/205.0625 [00:00<00:00, 306.86it/s]\n",
      "Train 29:  77%|███████████████▍    | 158/205.0625 [00:00<00:00, 305.19it/s]\n",
      "Train 29:  93%|██████████████████▌ | 190/205.0625 [00:00<00:00, 307.15it/s]\n",
      "100%|██████████| 206/206 [00:00<00:00, 308.12it/s]\u001b[A\n",
      "Train 29: 206it [00:00, 306.26it/s]                                        \n",
      "Test 29:   0%|                                 | 0/67.8125 [00:00<?, ?it/s]\n",
      "Test 29:  68%|███████████████▌       | 46/67.8125 [00:00<00:00, 454.58it/s]\n",
      "100%|██████████| 68/68 [00:00<00:00, 440.41it/s]\u001b[A\n",
      "Test 29: 100%|███████████████████████| 68/67.8125 [00:00<00:00, 431.12it/s]\n"
     ]
    },
    {
     "name": "stdout",
     "output_type": "stream",
     "text": [
      "Epoch: 30\n"
     ]
    },
    {
     "name": "stderr",
     "output_type": "stream",
     "text": [
      "Train 30:   0%|                               | 0/205.0625 [00:00<?, ?it/s]\n",
      "Train 30:  15%|███▏                 | 31/205.0625 [00:00<00:00, 301.98it/s]\n",
      "Train 30:  31%|██████▍              | 63/205.0625 [00:00<00:00, 306.45it/s]\n",
      "Train 30:  46%|█████████▋           | 94/205.0625 [00:00<00:00, 306.75it/s]\n",
      "Train 30:  61%|████████████▏       | 125/205.0625 [00:00<00:00, 306.90it/s]\n",
      "Train 30:  77%|███████████████▎    | 157/205.0625 [00:00<00:00, 310.34it/s]\n",
      "Train 30:  92%|██████████████████▍ | 189/205.0625 [00:00<00:00, 306.64it/s]\n",
      "100%|██████████| 206/206 [00:00<00:00, 307.51it/s]\u001b[A\n",
      "Train 30: 206it [00:00, 305.71it/s]                                        \n",
      "Test 30:   0%|                                 | 0/67.8125 [00:00<?, ?it/s]\n",
      "Test 30:  65%|██████████████▉        | 44/67.8125 [00:00<00:00, 435.35it/s]\n",
      "100%|██████████| 68/68 [00:00<00:00, 427.01it/s]\u001b[A\n",
      "Test 30: 100%|███████████████████████| 68/67.8125 [00:00<00:00, 418.15it/s]\n"
     ]
    },
    {
     "name": "stdout",
     "output_type": "stream",
     "text": [
      "Epoch: 31\n"
     ]
    },
    {
     "name": "stderr",
     "output_type": "stream",
     "text": [
      "Train 31:   0%|                               | 0/205.0625 [00:00<?, ?it/s]\n",
      "Train 31:  15%|███▏                 | 31/205.0625 [00:00<00:00, 303.28it/s]\n",
      "Train 31:  30%|██████▎              | 62/205.0625 [00:00<00:00, 304.61it/s]\n",
      "Train 31:  45%|█████████▌           | 93/205.0625 [00:00<00:00, 306.58it/s]\n",
      "Train 31:  60%|████████████        | 124/205.0625 [00:00<00:00, 307.71it/s]\n",
      "Train 31:  76%|███████████████     | 155/205.0625 [00:00<00:00, 306.32it/s]\n",
      "Train 31:  91%|██████████████████▏ | 186/205.0625 [00:00<00:00, 306.34it/s]\n",
      "100%|██████████| 206/206 [00:00<00:00, 306.89it/s]\u001b[A\n",
      "Train 31: 206it [00:00, 305.08it/s]                                        \n",
      "Test 31:   0%|                                 | 0/67.8125 [00:00<?, ?it/s]\n",
      "Test 31:  68%|███████████████▌       | 46/67.8125 [00:00<00:00, 457.01it/s]\n",
      "100%|██████████| 68/68 [00:00<00:00, 443.89it/s]\u001b[A\n",
      "Test 31: 100%|███████████████████████| 68/67.8125 [00:00<00:00, 434.23it/s]\n"
     ]
    },
    {
     "name": "stdout",
     "output_type": "stream",
     "text": [
      "Epoch: 32\n"
     ]
    },
    {
     "name": "stderr",
     "output_type": "stream",
     "text": [
      "Train 32:   0%|                               | 0/205.0625 [00:00<?, ?it/s]\n",
      "Train 32:  16%|███▎                 | 32/205.0625 [00:00<00:00, 310.07it/s]\n",
      "Train 32:  31%|██████▌              | 64/205.0625 [00:00<00:00, 311.42it/s]\n",
      "Train 32:  47%|█████████▊           | 96/205.0625 [00:00<00:00, 313.19it/s]\n",
      "Train 32:  62%|████████████▍       | 128/205.0625 [00:00<00:00, 311.92it/s]\n",
      "Train 32:  78%|███████████████▌    | 160/205.0625 [00:00<00:00, 310.59it/s]\n",
      "Train 32:  94%|██████████████████▋ | 192/205.0625 [00:00<00:00, 309.69it/s]\n",
      "100%|██████████| 206/206 [00:00<00:00, 310.38it/s]\u001b[A\n",
      "Train 32: 206it [00:00, 308.55it/s]                                        \n",
      "Test 32:   0%|                                 | 0/67.8125 [00:00<?, ?it/s]\n",
      "Test 32:  65%|██████████████▉        | 44/67.8125 [00:00<00:00, 439.04it/s]\n",
      "100%|██████████| 68/68 [00:00<00:00, 426.98it/s]\u001b[A\n",
      "Test 32: 100%|███████████████████████| 68/67.8125 [00:00<00:00, 417.39it/s]\n"
     ]
    },
    {
     "name": "stdout",
     "output_type": "stream",
     "text": [
      "Epoch: 33\n"
     ]
    },
    {
     "name": "stderr",
     "output_type": "stream",
     "text": [
      "Train 33:   0%|                               | 0/205.0625 [00:00<?, ?it/s]\n",
      "Train 33:  16%|███▎                 | 32/205.0625 [00:00<00:00, 311.10it/s]\n",
      " 16%|█▌        | 32/206 [00:00<00:00, 309.97it/s]\u001b[A\n",
      "Train 33:  31%|██████▌              | 64/205.0625 [00:00<00:00, 291.82it/s]\n",
      "Train 33:  47%|█████████▊           | 96/205.0625 [00:00<00:00, 300.22it/s]\n",
      "Train 33:  62%|████████████▍       | 127/205.0625 [00:00<00:00, 300.80it/s]\n",
      "Train 33:  77%|███████████████▍    | 158/205.0625 [00:00<00:00, 302.33it/s]\n",
      "100%|██████████| 206/206 [00:00<00:00, 305.59it/s][00:00<00:00, 304.40it/s]\n",
      "Train 33: 206it [00:00, 303.84it/s]                                        \n",
      "Test 33:   0%|                                 | 0/67.8125 [00:00<?, ?it/s]\n",
      "Test 33:  63%|██████████████▌        | 43/67.8125 [00:00<00:00, 422.90it/s]\n",
      "100%|██████████| 68/68 [00:00<00:00, 413.87it/s]\u001b[A\n",
      "Test 33: 100%|███████████████████████| 68/67.8125 [00:00<00:00, 405.71it/s]\n"
     ]
    },
    {
     "name": "stdout",
     "output_type": "stream",
     "text": [
      "Epoch: 34\n"
     ]
    },
    {
     "name": "stderr",
     "output_type": "stream",
     "text": [
      "Train 34:   0%|                               | 0/205.0625 [00:00<?, ?it/s]\n",
      "Train 34:  15%|███▏                 | 31/205.0625 [00:00<00:00, 308.45it/s]\n",
      "Train 34:  30%|██████▎              | 62/205.0625 [00:00<00:00, 300.66it/s]\n",
      "Train 34:  45%|█████████▌           | 93/205.0625 [00:00<00:00, 298.18it/s]\n",
      "Train 34:  61%|████████████▏       | 125/205.0625 [00:00<00:00, 302.94it/s]\n",
      "Train 34:  77%|███████████████▎    | 157/205.0625 [00:00<00:00, 307.97it/s]\n",
      "Train 34:  92%|██████████████████▎ | 188/205.0625 [00:00<00:00, 304.40it/s]\n",
      "100%|██████████| 206/206 [00:00<00:00, 304.37it/s]\u001b[A\n",
      "Train 34: 206it [00:00, 302.20it/s]                                        \n",
      "Test 34:   0%|                                 | 0/67.8125 [00:00<?, ?it/s]\n",
      "Test 34:  63%|██████████████▌        | 43/67.8125 [00:00<00:00, 428.31it/s]\n",
      "100%|██████████| 68/68 [00:00<00:00, 426.68it/s]\u001b[A\n",
      "Test 34: 100%|███████████████████████| 68/67.8125 [00:00<00:00, 416.13it/s]\n"
     ]
    },
    {
     "name": "stdout",
     "output_type": "stream",
     "text": [
      "Epoch: 35\n"
     ]
    },
    {
     "name": "stderr",
     "output_type": "stream",
     "text": [
      "Train 35:   0%|                               | 0/205.0625 [00:00<?, ?it/s]\n",
      "Train 35:  16%|███▎                 | 32/205.0625 [00:00<00:00, 313.41it/s]\n",
      " 16%|█▌        | 32/206 [00:00<00:00, 309.08it/s]\u001b[A\n",
      "Train 35:  31%|██████▌              | 64/205.0625 [00:00<00:00, 294.29it/s]\n",
      "Train 35:  46%|█████████▋           | 95/205.0625 [00:00<00:00, 297.56it/s]\n",
      "Train 35:  61%|████████████▎       | 126/205.0625 [00:00<00:00, 301.09it/s]\n",
      "Train 35:  77%|███████████████▎    | 157/205.0625 [00:00<00:00, 302.03it/s]\n",
      "100%|██████████| 206/206 [00:00<00:00, 305.35it/s][00:00<00:00, 303.88it/s]\n",
      "Train 35: 206it [00:00, 303.51it/s]                                        \n",
      "Test 35:   0%|                                 | 0/67.8125 [00:00<?, ?it/s]\n",
      "Test 35:  66%|███████████████▎       | 45/67.8125 [00:00<00:00, 449.60it/s]\n",
      "100%|██████████| 68/68 [00:00<00:00, 440.34it/s]\u001b[A\n",
      "Test 35: 100%|███████████████████████| 68/67.8125 [00:00<00:00, 431.18it/s]\n"
     ]
    },
    {
     "name": "stdout",
     "output_type": "stream",
     "text": [
      "Epoch: 36\n"
     ]
    },
    {
     "name": "stderr",
     "output_type": "stream",
     "text": [
      "Train 36:   0%|                               | 0/205.0625 [00:00<?, ?it/s]\n",
      "Train 36:  16%|███▎                 | 32/205.0625 [00:00<00:00, 316.07it/s]\n",
      "Train 36:  31%|██████▌              | 64/205.0625 [00:00<00:00, 311.35it/s]\n",
      "Train 36:  47%|█████████▉           | 97/205.0625 [00:00<00:00, 315.55it/s]\n",
      "Train 36:  63%|████████████▌       | 129/205.0625 [00:00<00:00, 315.96it/s]\n",
      "Train 36:  79%|███████████████▋    | 161/205.0625 [00:00<00:00, 314.88it/s]\n",
      "Train 36:  94%|██████████████████▊ | 193/205.0625 [00:00<00:00, 314.42it/s]\n",
      "100%|██████████| 206/206 [00:00<00:00, 314.32it/s]\u001b[A\n",
      "Train 36: 206it [00:00, 312.58it/s]                                        \n",
      "Test 36:   0%|                                 | 0/67.8125 [00:00<?, ?it/s]\n",
      "Test 36:  71%|████████████████▎      | 48/67.8125 [00:00<00:00, 471.99it/s]\n",
      "100%|██████████| 68/68 [00:00<00:00, 457.80it/s]\u001b[A\n",
      "Test 36: 100%|███████████████████████| 68/67.8125 [00:00<00:00, 448.18it/s]\n"
     ]
    },
    {
     "name": "stdout",
     "output_type": "stream",
     "text": [
      "Epoch: 37\n"
     ]
    },
    {
     "name": "stderr",
     "output_type": "stream",
     "text": [
      "Train 37:   0%|                               | 0/205.0625 [00:00<?, ?it/s]\n",
      "Train 37:  16%|███▎                 | 32/205.0625 [00:00<00:00, 312.87it/s]\n",
      "Train 37:  31%|██████▌              | 64/205.0625 [00:00<00:00, 314.69it/s]\n",
      "Train 37:  47%|█████████▊           | 96/205.0625 [00:00<00:00, 313.83it/s]\n",
      "Train 37:  62%|████████████▍       | 128/205.0625 [00:00<00:00, 310.45it/s]\n",
      "Train 37:  78%|███████████████▌    | 160/205.0625 [00:00<00:00, 310.77it/s]\n",
      "Train 37:  94%|██████████████████▊ | 193/205.0625 [00:00<00:00, 314.68it/s]\n",
      "100%|██████████| 206/206 [00:00<00:00, 313.85it/s]\u001b[A\n",
      "Train 37: 206it [00:00, 312.07it/s]                                        \n",
      "Test 37:   0%|                                 | 0/67.8125 [00:00<?, ?it/s]\n",
      "Test 37:  69%|███████████████▉       | 47/67.8125 [00:00<00:00, 468.38it/s]\n",
      "100%|██████████| 68/68 [00:00<00:00, 451.75it/s]\u001b[A\n",
      "Test 37: 100%|███████████████████████| 68/67.8125 [00:00<00:00, 442.37it/s]\n"
     ]
    },
    {
     "name": "stdout",
     "output_type": "stream",
     "text": [
      "Epoch: 38\n"
     ]
    },
    {
     "name": "stderr",
     "output_type": "stream",
     "text": [
      "Train 38:   0%|                               | 0/205.0625 [00:00<?, ?it/s]\n",
      "Train 38:  16%|███▍                 | 33/205.0625 [00:00<00:00, 323.23it/s]\n",
      "Train 38:  33%|██████▊              | 67/205.0625 [00:00<00:00, 327.92it/s]\n",
      "Train 38:  49%|█████████▊          | 100/205.0625 [00:00<00:00, 325.85it/s]\n",
      "Train 38:  65%|████████████▉       | 133/205.0625 [00:00<00:00, 326.07it/s]\n",
      "Train 38:  81%|████████████████▏   | 166/205.0625 [00:00<00:00, 323.53it/s]\n",
      "Train 38:  97%|███████████████████▍| 199/205.0625 [00:00<00:00, 322.96it/s]\n",
      "100%|██████████| 206/206 [00:00<00:00, 323.07it/s]\u001b[A\n",
      "Train 38: 206it [00:00, 321.21it/s]                                        \n",
      "Test 38:   0%|                                 | 0/67.8125 [00:00<?, ?it/s]\n",
      "Test 38:  66%|███████████████▎       | 45/67.8125 [00:00<00:00, 442.92it/s]\n",
      "100%|██████████| 68/68 [00:00<00:00, 445.83it/s]\u001b[A\n",
      "Test 38: 100%|███████████████████████| 68/67.8125 [00:00<00:00, 436.66it/s]\n"
     ]
    },
    {
     "name": "stdout",
     "output_type": "stream",
     "text": [
      "Epoch: 39\n"
     ]
    },
    {
     "name": "stderr",
     "output_type": "stream",
     "text": [
      "Train 39:   0%|                               | 0/205.0625 [00:00<?, ?it/s]\n",
      "Train 39:  16%|███▎                 | 32/205.0625 [00:00<00:00, 316.40it/s]\n",
      "Train 39:  32%|██████▋              | 65/205.0625 [00:00<00:00, 321.57it/s]\n",
      "Train 39:  48%|██████████           | 98/205.0625 [00:00<00:00, 320.28it/s]\n",
      "Train 39:  64%|████████████▊       | 131/205.0625 [00:00<00:00, 316.09it/s]\n",
      "Train 39:  79%|███████████████▉    | 163/205.0625 [00:00<00:00, 313.25it/s]\n",
      "Train 39:  95%|███████████████████ | 195/205.0625 [00:00<00:00, 313.95it/s]\n",
      "100%|██████████| 206/206 [00:00<00:00, 314.44it/s]\u001b[A\n",
      "Train 39: 206it [00:00, 312.62it/s]                                        \n",
      "Test 39:   0%|                                 | 0/67.8125 [00:00<?, ?it/s]\n",
      "Test 39:  65%|██████████████▉        | 44/67.8125 [00:00<00:00, 436.21it/s]\n",
      "100%|██████████| 68/68 [00:00<00:00, 433.76it/s]\u001b[A\n",
      "Test 39: 100%|███████████████████████| 68/67.8125 [00:00<00:00, 425.28it/s]\n"
     ]
    },
    {
     "name": "stdout",
     "output_type": "stream",
     "text": [
      "Epoch: 40\n"
     ]
    },
    {
     "name": "stderr",
     "output_type": "stream",
     "text": [
      "Train 40:   0%|                               | 0/205.0625 [00:00<?, ?it/s]\n",
      "Train 40:  16%|███▎                 | 32/205.0625 [00:00<00:00, 316.53it/s]\n",
      "Train 40:  31%|██████▌              | 64/205.0625 [00:00<00:00, 312.73it/s]\n",
      "Train 40:  47%|█████████▊           | 96/205.0625 [00:00<00:00, 312.97it/s]\n",
      "Train 40:  62%|████████████▍       | 128/205.0625 [00:00<00:00, 315.04it/s]\n",
      "Train 40:  78%|███████████████▌    | 160/205.0625 [00:00<00:00, 316.55it/s]\n",
      "Train 40:  94%|██████████████████▋ | 192/205.0625 [00:00<00:00, 317.16it/s]\n",
      "100%|██████████| 206/206 [00:00<00:00, 315.41it/s]\u001b[A\n",
      "Train 40: 206it [00:00, 313.57it/s]                                        \n",
      "Test 40:   0%|                                 | 0/67.8125 [00:00<?, ?it/s]\n",
      "Test 40:  69%|███████████████▉       | 47/67.8125 [00:00<00:00, 458.22it/s]\n",
      "100%|██████████| 68/68 [00:00<00:00, 444.79it/s]\u001b[A\n",
      "Test 40: 100%|███████████████████████| 68/67.8125 [00:00<00:00, 435.74it/s]\n"
     ]
    },
    {
     "name": "stdout",
     "output_type": "stream",
     "text": [
      "Epoch: 41\n"
     ]
    },
    {
     "name": "stderr",
     "output_type": "stream",
     "text": [
      "Train 41:   0%|                               | 0/205.0625 [00:00<?, ?it/s]\n",
      "Train 41:  16%|███▎                 | 32/205.0625 [00:00<00:00, 313.36it/s]\n",
      "Train 41:  31%|██████▌              | 64/205.0625 [00:00<00:00, 311.08it/s]\n",
      "Train 41:  47%|█████████▊           | 96/205.0625 [00:00<00:00, 308.57it/s]\n",
      "Train 41:  62%|████████████▍       | 127/205.0625 [00:00<00:00, 308.41it/s]\n",
      "Train 41:  78%|███████████████▌    | 160/205.0625 [00:00<00:00, 314.04it/s]\n",
      "Train 41:  94%|██████████████████▋ | 192/205.0625 [00:00<00:00, 314.30it/s]\n",
      "100%|██████████| 206/206 [00:00<00:00, 312.48it/s]\u001b[A\n",
      "Train 41: 206it [00:00, 310.75it/s]                                        \n",
      "Test 41:   0%|                                 | 0/67.8125 [00:00<?, ?it/s]\n",
      "Test 41:  65%|██████████████▉        | 44/67.8125 [00:00<00:00, 433.77it/s]\n",
      "100%|██████████| 68/68 [00:00<00:00, 428.57it/s]\u001b[A\n",
      "Test 41: 100%|███████████████████████| 68/67.8125 [00:00<00:00, 420.08it/s]\n"
     ]
    },
    {
     "name": "stdout",
     "output_type": "stream",
     "text": [
      "Epoch: 42\n"
     ]
    },
    {
     "name": "stderr",
     "output_type": "stream",
     "text": [
      "Train 42:   0%|                               | 0/205.0625 [00:00<?, ?it/s]\n",
      "Train 42:  16%|███▎                 | 32/205.0625 [00:00<00:00, 318.68it/s]\n",
      "Train 42:  32%|██████▋              | 65/205.0625 [00:00<00:00, 324.97it/s]\n",
      "Train 42:  48%|██████████           | 98/205.0625 [00:00<00:00, 324.10it/s]\n",
      "Train 42:  64%|████████████▊       | 131/205.0625 [00:00<00:00, 320.91it/s]\n",
      "Train 42:  80%|███████████████▉    | 164/205.0625 [00:00<00:00, 316.24it/s]\n",
      "Train 42:  96%|███████████████████ | 196/205.0625 [00:00<00:00, 312.27it/s]\n",
      "100%|██████████| 206/206 [00:00<00:00, 315.04it/s]\u001b[A\n",
      "Train 42: 206it [00:00, 313.17it/s]                                        \n",
      "Test 42:   0%|                                 | 0/67.8125 [00:00<?, ?it/s]\n",
      "Test 42:  69%|███████████████▉       | 47/67.8125 [00:00<00:00, 462.95it/s]\n",
      "100%|██████████| 68/68 [00:00<00:00, 454.24it/s]\u001b[A\n",
      "Test 42: 100%|███████████████████████| 68/67.8125 [00:00<00:00, 444.02it/s]\n"
     ]
    },
    {
     "name": "stdout",
     "output_type": "stream",
     "text": [
      "Epoch: 43\n"
     ]
    },
    {
     "name": "stderr",
     "output_type": "stream",
     "text": [
      "Train 43:   0%|                               | 0/205.0625 [00:00<?, ?it/s]\n",
      "Train 43:  15%|███                  | 30/205.0625 [00:00<00:00, 297.38it/s]\n",
      "Train 43:  29%|██████▏              | 60/205.0625 [00:00<00:00, 297.89it/s]\n",
      "Train 43:  44%|█████████▎           | 91/205.0625 [00:00<00:00, 301.59it/s]\n",
      "Train 43:  59%|███████████▉        | 122/205.0625 [00:00<00:00, 304.69it/s]\n",
      "Train 43:  75%|██████████████▉     | 153/205.0625 [00:00<00:00, 305.50it/s]\n",
      "Train 43:  90%|█████████████████▉  | 184/205.0625 [00:00<00:00, 306.63it/s]\n",
      "100%|██████████| 206/206 [00:00<00:00, 305.63it/s]\u001b[A\n",
      "Train 43: 206it [00:00, 303.80it/s]                                        \n",
      "Test 43:   0%|                                 | 0/67.8125 [00:00<?, ?it/s]\n",
      "Test 43:  63%|██████████████▌        | 43/67.8125 [00:00<00:00, 424.65it/s]\n",
      "100%|██████████| 68/68 [00:00<00:00, 412.90it/s]\u001b[A\n",
      "Test 43: 100%|███████████████████████| 68/67.8125 [00:00<00:00, 404.80it/s]\n"
     ]
    },
    {
     "name": "stdout",
     "output_type": "stream",
     "text": [
      "Epoch: 44\n"
     ]
    },
    {
     "name": "stderr",
     "output_type": "stream",
     "text": [
      "Train 44:   0%|                               | 0/205.0625 [00:00<?, ?it/s]\n",
      "Train 44:  16%|███▎                 | 32/205.0625 [00:00<00:00, 311.14it/s]\n",
      "Train 44:  31%|██████▌              | 64/205.0625 [00:00<00:00, 306.45it/s]\n",
      "Train 44:  46%|█████████▋           | 95/205.0625 [00:00<00:00, 306.58it/s]\n",
      "Train 44:  61%|████████████▎       | 126/205.0625 [00:00<00:00, 307.52it/s]\n",
      "Train 44:  77%|███████████████▎    | 157/205.0625 [00:00<00:00, 307.90it/s]\n",
      "Train 44:  92%|██████████████████▎ | 188/205.0625 [00:00<00:00, 308.24it/s]\n",
      "100%|██████████| 206/206 [00:00<00:00, 307.81it/s]\u001b[A\n",
      "Train 44: 206it [00:00, 306.10it/s]                                        \n",
      "Test 44:   0%|                                 | 0/67.8125 [00:00<?, ?it/s]\n",
      "Test 44:  65%|██████████████▉        | 44/67.8125 [00:00<00:00, 435.52it/s]\n",
      "100%|██████████| 68/68 [00:00<00:00, 434.65it/s]\u001b[A\n",
      "Test 44: 100%|███████████████████████| 68/67.8125 [00:00<00:00, 425.75it/s]\n"
     ]
    },
    {
     "name": "stdout",
     "output_type": "stream",
     "text": [
      "Epoch: 45\n"
     ]
    },
    {
     "name": "stderr",
     "output_type": "stream",
     "text": [
      "Train 45:   0%|                               | 0/205.0625 [00:00<?, ?it/s]\n",
      "Train 45:  15%|███▏                 | 31/205.0625 [00:00<00:00, 306.72it/s]\n",
      "Train 45:  30%|██████▎              | 62/205.0625 [00:00<00:00, 304.52it/s]\n",
      "Train 45:  45%|█████████▌           | 93/205.0625 [00:00<00:00, 304.53it/s]\n",
      "Train 45:  60%|████████████        | 124/205.0625 [00:00<00:00, 303.43it/s]\n",
      "Train 45:  76%|███████████████     | 155/205.0625 [00:00<00:00, 303.47it/s]\n",
      "Train 45:  91%|██████████████████▏ | 186/205.0625 [00:00<00:00, 303.68it/s]\n",
      "100%|██████████| 206/206 [00:00<00:00, 305.40it/s]\u001b[A\n",
      "Train 45: 206it [00:00, 303.63it/s]                                        \n",
      "Test 45:   0%|                                 | 0/67.8125 [00:00<?, ?it/s]\n",
      "Test 45:  68%|███████████████▌       | 46/67.8125 [00:00<00:00, 452.28it/s]\n",
      "100%|██████████| 68/68 [00:00<00:00, 431.98it/s]\u001b[A\n",
      "Test 45: 100%|███████████████████████| 68/67.8125 [00:00<00:00, 422.11it/s]\n"
     ]
    },
    {
     "name": "stdout",
     "output_type": "stream",
     "text": [
      "Epoch: 46\n"
     ]
    },
    {
     "name": "stderr",
     "output_type": "stream",
     "text": [
      "Train 46:   0%|                               | 0/205.0625 [00:00<?, ?it/s]\n",
      "Train 46:  16%|███▎                 | 32/205.0625 [00:00<00:00, 317.24it/s]\n",
      "Train 46:  31%|██████▌              | 64/205.0625 [00:00<00:00, 310.67it/s]\n",
      "Train 46:  47%|█████████▊           | 96/205.0625 [00:00<00:00, 307.68it/s]\n",
      "Train 46:  62%|████████████▍       | 127/205.0625 [00:00<00:00, 305.63it/s]\n",
      "Train 46:  77%|███████████████▍    | 158/205.0625 [00:00<00:00, 305.45it/s]\n",
      "Train 46:  92%|██████████████████▍ | 189/205.0625 [00:00<00:00, 305.21it/s]\n",
      "100%|██████████| 206/206 [00:00<00:00, 307.02it/s]\u001b[A\n",
      "Train 46: 206it [00:00, 305.31it/s]                                        \n",
      "Test 46:   0%|                                 | 0/67.8125 [00:00<?, ?it/s]\n",
      "Test 46:  66%|███████████████▎       | 45/67.8125 [00:00<00:00, 441.77it/s]\n",
      "100%|██████████| 68/68 [00:00<00:00, 437.04it/s]\u001b[A\n",
      "Test 46: 100%|███████████████████████| 68/67.8125 [00:00<00:00, 426.48it/s]\n"
     ]
    },
    {
     "name": "stdout",
     "output_type": "stream",
     "text": [
      "Epoch: 47\n"
     ]
    },
    {
     "name": "stderr",
     "output_type": "stream",
     "text": [
      "Train 47:   0%|                               | 0/205.0625 [00:00<?, ?it/s]\n",
      "Train 47:  15%|███▏                 | 31/205.0625 [00:00<00:00, 309.22it/s]\n",
      "Train 47:  30%|██████▎              | 62/205.0625 [00:00<00:00, 302.49it/s]\n",
      "Train 47:  45%|█████████▌           | 93/205.0625 [00:00<00:00, 302.34it/s]\n",
      "Train 47:  60%|████████████        | 124/205.0625 [00:00<00:00, 303.87it/s]\n",
      "Train 47:  76%|███████████████     | 155/205.0625 [00:00<00:00, 303.90it/s]\n",
      "Train 47:  91%|██████████████████▏ | 186/205.0625 [00:00<00:00, 305.86it/s]\n",
      "100%|██████████| 206/206 [00:00<00:00, 305.52it/s]\u001b[A\n",
      "Train 47: 206it [00:00, 303.70it/s]                                        \n",
      "Test 47:   0%|                                 | 0/67.8125 [00:00<?, ?it/s]\n",
      "Test 47:  63%|██████████████▌        | 43/67.8125 [00:00<00:00, 428.52it/s]\n",
      "100%|██████████| 68/68 [00:00<00:00, 422.41it/s]\u001b[A\n",
      "Test 47: 100%|███████████████████████| 68/67.8125 [00:00<00:00, 413.99it/s]\n"
     ]
    },
    {
     "name": "stdout",
     "output_type": "stream",
     "text": [
      "Epoch: 48\n"
     ]
    },
    {
     "name": "stderr",
     "output_type": "stream",
     "text": [
      "Train 48:   0%|                               | 0/205.0625 [00:00<?, ?it/s]\n",
      "Train 48:  16%|███▎                 | 32/205.0625 [00:00<00:00, 312.88it/s]\n",
      "Train 48:  31%|██████▌              | 64/205.0625 [00:00<00:00, 310.70it/s]\n",
      "Train 48:  47%|█████████▊           | 96/205.0625 [00:00<00:00, 306.57it/s]\n",
      "Train 48:  62%|████████████▍       | 127/205.0625 [00:00<00:00, 306.98it/s]\n",
      "Train 48:  77%|███████████████▍    | 158/205.0625 [00:00<00:00, 306.39it/s]\n",
      "Train 48:  92%|██████████████████▍ | 189/205.0625 [00:00<00:00, 304.29it/s]\n",
      "100%|██████████| 206/206 [00:00<00:00, 306.65it/s]\u001b[A\n",
      "Train 48: 206it [00:00, 304.89it/s]                                        \n",
      "Test 48:   0%|                                 | 0/67.8125 [00:00<?, ?it/s]\n",
      "Test 48:  63%|██████████████▌        | 43/67.8125 [00:00<00:00, 428.04it/s]\n",
      "100%|██████████| 68/68 [00:00<00:00, 429.59it/s]\u001b[A\n",
      "Test 48: 100%|███████████████████████| 68/67.8125 [00:00<00:00, 420.88it/s]\n"
     ]
    },
    {
     "name": "stdout",
     "output_type": "stream",
     "text": [
      "Epoch: 49\n"
     ]
    },
    {
     "name": "stderr",
     "output_type": "stream",
     "text": [
      "Train 49:   0%|                               | 0/205.0625 [00:00<?, ?it/s]\n",
      "Train 49:  16%|███▎                 | 32/205.0625 [00:00<00:00, 311.65it/s]\n",
      "Train 49:  31%|██████▌              | 64/205.0625 [00:00<00:00, 312.13it/s]\n",
      "Train 49:  47%|█████████▉           | 97/205.0625 [00:00<00:00, 316.53it/s]\n",
      "Train 49:  63%|████████████▌       | 129/205.0625 [00:00<00:00, 314.64it/s]\n",
      "Train 49:  79%|███████████████▋    | 161/205.0625 [00:00<00:00, 311.75it/s]\n",
      "Train 49:  94%|██████████████████▊ | 193/205.0625 [00:00<00:00, 308.62it/s]\n",
      "100%|██████████| 206/206 [00:00<00:00, 310.72it/s]\u001b[A\n",
      "Train 49: 206it [00:00, 308.83it/s]                                        \n",
      "Test 49:   0%|                                 | 0/67.8125 [00:00<?, ?it/s]\n",
      "Test 49:  65%|██████████████▉        | 44/67.8125 [00:00<00:00, 432.07it/s]\n",
      "100%|██████████| 68/68 [00:00<00:00, 424.82it/s]\u001b[A\n",
      "Test 49: 100%|███████████████████████| 68/67.8125 [00:00<00:00, 416.02it/s]\n"
     ]
    }
   ],
   "source": [
    "c_event = args.current_event\n",
    "f_event = 1\n",
    "batch_size = args.batch_size\n",
    "file_name = \"TextReplay\"\n",
    "\n",
    "# model configuration\n",
    "\n",
    "if args.mode == 'train':\n",
    "    channel_sizes = args.channel_size\n",
    "    kernel_size = args.kernel_size\n",
    "    epochs = args.num_epochs\n",
    "    hidden_size = 40\n",
    "    length = 24\n",
    "    if args.multi_pattern:\n",
    "        length = 14\n",
    "    linear_size = channel_sizes * (c_event - kernel_size + 1)\n",
    "    model = TCN(length, channel_sizes, f_event, kernel_size, hidden_size, linear_size)\n",
    "    lr = args.learning_rate\n",
    "    optimizer = optim.Adam(model.parameters(), lr=lr)\n",
    "    criterion = nn.BCEWithLogitsLoss()\n",
    "\n",
    "\n",
    "# experiment\n",
    "\n",
    "if args.mode == 'train':\n",
    "    best = 1000\n",
    "#     count_list = []\n",
    "    loss_list = []\n",
    "    kappa_list = []\n",
    "    count_right_gaming_list = []\n",
    "    count_right_non_list = []\n",
    "    testing_loss = []\n",
    "    testing_reg_loss = []\n",
    "    total_testing_loss = []\n",
    "    training_loss = []\n",
    "    training_reg_loss = []\n",
    "    total_training_loss = []\n",
    "    for ep in range(args.num_epochs):\n",
    "        # cond is used when you want to graph the loss within an epoch, it stops the training where you want to look\n",
    "#         cond = False\n",
    "        if args.warm_up:\n",
    "            if ep < args.warm_up_epoch:\n",
    "                training_loss, training_reg_loss, total_training_loss, predict_train = train(ep, 0, 0, args)\n",
    "            elif ep < args.warm_up_epoch + 10 and ep >= args.warm_up_epoch:\n",
    "                l1 = (ep - args.warm_up_epoch) * args.lamda1 / 10\n",
    "                l2 = (ep - args.warm_up_epoch) * args.lamda2 / 10\n",
    "                training_loss, training_reg_loss, total_training_loss, predict_train = train(ep, l1, l2, args)\n",
    "            else:\n",
    "                training_loss, training_reg_loss, total_training_loss, predict_train = train(ep, args.lamda1, args.lamda2, args)\n",
    "#                 cond = True\n",
    "        else:\n",
    "            training_loss, training_reg_loss, total_training_loss, predict_train = train(ep, args.lamda1, args.lamda2, args)\n",
    "\n",
    "        testing_loss, testing_reg_loss, total_testing_loss, predict_loss, kappa, [count_gaming, count_non] = evaluate()\n",
    "        loss_list.append(stat.mean(testing_loss))\n",
    "        kappa_list.append(kappa)\n",
    "        count_right_gaming_list.append(count_gaming)\n",
    "        count_right_non_list.append(count_non)\n",
    "#         if cond:\n",
    "#             break\n",
    "        \n",
    "\n",
    "\n",
    "    torch.save(model, 'model/model_' + args.course + '_' + file_name + '.pt')\n",
    "\n",
    "model = torch.load('model/model_' + args.course + '_' + file_name +'.pt')\n",
    "count_list = list(np.array(count_right_gaming_list) + np.array(count_right_non_list))\n",
    "\n"
   ]
  },
  {
   "cell_type": "code",
   "execution_count": 16,
   "id": "75b31e2c",
   "metadata": {},
   "outputs": [
    {
     "name": "stdout",
     "output_type": "stream",
     "text": [
      "ave kappa: 0.2857359666661055\n",
      "ave % correct gaming: 0.2237037037037037\n",
      "ave % correct non gaming: 0.9862407862407863\n",
      "ave accuracy: 0.9410138248847926\n"
     ]
    },
    {
     "data": {
      "image/png": "[encoded data removed]",
      "text/plain": [
       "<Figure size 1080x720 with 4 Axes>"
      ]
     },
     "metadata": {
      "needs_background": "light"
     },
     "output_type": "display_data"
    }
   ],
   "source": [
    "\n",
    "generate_plots(loss_list, kappa_list, count_right_gaming_list, count_right_non_list, count_list)"
   ]
  },
  {
   "cell_type": "code",
   "execution_count": 8,
   "id": "29bffe57",
   "metadata": {},
   "outputs": [
    {
     "name": "stdout",
     "output_type": "stream",
     "text": [
      "ave loss: 0.08736653178930283\n",
      "last reg: -0.03254570811986923\n",
      "ave total loss: 0.08736653178930283\n"
     ]
    },
    {
     "data": {
      "image/png": "[encoded data removed]",
      "text/plain": [
       "<Figure size 1080x720 with 3 Axes>"
      ]
     },
     "metadata": {
      "needs_background": "light"
     },
     "output_type": "display_data"
    }
   ],
   "source": [
    "# only run this if you used cond in the training process (or want to look at the loos within the last epoch)\n",
    "\n",
    "generate_inner_plots(training_loss, training_reg_loss, total_training_loss)\n",
    "#from epoch 15"
   ]
  }
 ],
 "metadata": {
  "kernelspec": {
   "display_name": "Python [conda env:opence-v1.5.1]",
   "language": "python",
   "name": "conda-env-opence-v1.5.1-py"
  },
  "language_info": {
   "codemirror_mode": {
    "name": "ipython",
    "version": 3
   },
   "file_extension": ".py",
   "mimetype": "text/x-python",
   "name": "python",
   "nbconvert_exporter": "python",
   "pygments_lexer": "ipython3",
   "version": "3.9.12"
  }
 },
 "nbformat": 4,
 "nbformat_minor": 5
}
